{
 "cells": [
  {
   "cell_type": "code",
   "id": "initial_id",
   "metadata": {
    "collapsed": true,
    "ExecuteTime": {
     "end_time": "2025-07-22T09:58:54.908187Z",
     "start_time": "2025-07-22T09:58:54.901898Z"
    }
   },
   "source": [
    "import numpy as np\n",
    "import matplotlib.pyplot as plt\n",
    "from jedi.api.helpers import infer\n",
    "from mpl_toolkits import mplot3d\n",
    "import jax\n",
    "from jax import grad\n",
    "import jax.numpy as jnp\n",
    "\n",
    "np.random.seed(seed=236)"
   ],
   "outputs": [],
   "execution_count": 166
  },
  {
   "metadata": {},
   "cell_type": "markdown",
   "source": "Generate datapoints",
   "id": "78d38ab86bad5270"
  },
  {
   "metadata": {
    "ExecuteTime": {
     "end_time": "2025-07-22T09:59:02.028837Z",
     "start_time": "2025-07-22T09:59:02.021509Z"
    }
   },
   "cell_type": "code",
   "source": [
    "N = 1000\n",
    "M = 50\n",
    "d = 2\n",
    "r = 1\n",
    "length = 20\n",
    "\n",
    "x = np.random.uniform(low=0, high=length, size=(N,d))\n",
    "X = np.random.randn(M,d)\n",
    "X = (X/ np.linalg.norm(X, axis=1, keepdims=True)) * r"
   ],
   "id": "1de0012e5d9dc19e",
   "outputs": [],
   "execution_count": 173
  },
  {
   "metadata": {
    "ExecuteTime": {
     "end_time": "2025-07-22T09:59:04.888613Z",
     "start_time": "2025-07-22T09:59:04.883138Z"
    }
   },
   "cell_type": "code",
   "source": [
    "def plot_sphere(X):\n",
    "    plt.scatter(X[:,0], X[:,1], c='b', s=10, alpha=0.5)\n",
    "    plt.show()\n",
    "\n",
    "def plot_interpolated_point(x):\n",
    "    plt.scatter(x[:,0], x[:,1], c='b', s=10, alpha=0.5)\n",
    "\n",
    "\n",
    "def function_f(l):\n",
    "    return jnp.dot(l, l)**2\n",
    "\n",
    "def function_g(l):\n",
    "    return jnp.dot(l, l)\n",
    "\n",
    "grad_f = jax.grad(function_f)\n",
    "\n",
    "grad_g = jax.grad(function_g)\n",
    "\n",
    "\n",
    "# plot_sphere(X)\n",
    "\n",
    "\n"
   ],
   "id": "fe8cc06b0c083323",
   "outputs": [],
   "execution_count": 176
  },
  {
   "metadata": {
    "ExecuteTime": {
     "end_time": "2025-07-22T09:59:53.098408Z",
     "start_time": "2025-07-22T09:59:07.106040Z"
    }
   },
   "cell_type": "code",
   "source": [
    "\n",
    "beta = np.full((N,M),-np.inf)\n",
    "for i in range(N):\n",
    "    for j in range(M):\n",
    "        z = x[i] + X[j]\n",
    "        diff_g = function_g(z)-function_g(x[i])-np.dot(grad_g(x[i]),X[j])\n",
    "        if diff_g > 0:\n",
    "            beta[i,j] = - (function_f(z)-function_f(x[i])-np.dot(grad_f(x[i]),X[j]))/diff_g\n",
    "\n",
    "beta_threshold = np.max(beta.flatten())\n",
    "\n",
    "print(beta_threshold)\n",
    "\n"
   ],
   "id": "6afd1bba22ec2825",
   "outputs": [
    {
     "name": "stdout",
     "output_type": "stream",
     "text": [
      "-0.3373768925666809\n"
     ]
    }
   ],
   "execution_count": 177
  },
  {
   "metadata": {
    "ExecuteTime": {
     "end_time": "2025-07-22T09:58:04.111350Z",
     "start_time": "2025-07-22T09:58:04.109885Z"
    }
   },
   "cell_type": "code",
   "source": "",
   "id": "7f8473e5716a58d9",
   "outputs": [],
   "execution_count": null
  },
  {
   "metadata": {},
   "cell_type": "code",
   "outputs": [],
   "execution_count": null,
   "source": "",
   "id": "f5013f78961f2ac6"
  }
 ],
 "metadata": {
  "kernelspec": {
   "display_name": "Python 3",
   "language": "python",
   "name": "python3"
  },
  "language_info": {
   "codemirror_mode": {
    "name": "ipython",
    "version": 2
   },
   "file_extension": ".py",
   "mimetype": "text/x-python",
   "name": "python",
   "nbconvert_exporter": "python",
   "pygments_lexer": "ipython2",
   "version": "2.7.6"
  }
 },
 "nbformat": 4,
 "nbformat_minor": 5
}
