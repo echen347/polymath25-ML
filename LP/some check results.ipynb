{
 "cells": [
  {
   "cell_type": "code",
   "execution_count": 1,
   "id": "5442786b-e1eb-4c20-8d59-ead9679fc447",
   "metadata": {},
   "outputs": [],
   "source": [
    "import numpy as np\n",
    "import cvxpy as cp\n",
    "\n",
    "from interpolation_check import prime_interpolation_check, dual_interpolation_check\n",
    "\n",
    "def sample_uniform_square(N):\n",
    "    \"\"\"\n",
    "    Sample N points uniformly from a square centered at the origin\n",
    "    with edge length 4, i.e., from [-2, 2]^2.\n",
    "    \"\"\"\n",
    "    return np.random.uniform(-2, 2, size=(N, 2))\n",
    "\n",
    "\n",
    "def sample_standard_normal(N):\n",
    "    \"\"\"\n",
    "    Sample N points from the standard 2D Gaussian distribution.\n",
    "    \"\"\"\n",
    "    return np.random.normal(0, 1, size=(N, 2))"
   ]
  },
  {
   "cell_type": "code",
   "execution_count": 2,
   "id": "9b4ff028-28dd-441b-8ab2-53d5e009ff45",
   "metadata": {},
   "outputs": [],
   "source": [
    "# Define the convex function f(x, y) = x^2 + y^2,  vectorized over (N, 2) input\n",
    "def f(points):\n",
    "    return np.sum(points**2, axis=1)"
   ]
  },
  {
   "cell_type": "code",
   "execution_count": 3,
   "id": "d0a69b77-c65b-4c35-961a-ee23338565ed",
   "metadata": {},
   "outputs": [],
   "source": [
    "N = 100\n",
    "points = sample_standard_normal(N)\n",
    "\n",
    "z = f(points)"
   ]
  },
  {
   "cell_type": "code",
   "execution_count": 4,
   "id": "9fc122ad-b3bf-4b67-bdb8-015ab798251c",
   "metadata": {},
   "outputs": [
    {
     "name": "stdout",
     "output_type": "stream",
     "text": [
      "Points can interpolate a convex function: True\n"
     ]
    }
   ],
   "source": [
    "result = dual_interpolation_check(points, z)\n",
    "print(\"Points can interpolate a convex function:\", result)"
   ]
  },
  {
   "cell_type": "code",
   "execution_count": 5,
   "id": "0bffd1d5-0962-4077-a85a-a65fd588a865",
   "metadata": {},
   "outputs": [],
   "source": [
    "N = 1000\n",
    "points = sample_standard_normal(N)\n",
    "\n",
    "z = f(points)"
   ]
  },
  {
   "cell_type": "code",
   "execution_count": 11,
   "id": "230b2757-981a-4230-8469-53fde02a1bca",
   "metadata": {},
   "outputs": [
    {
     "name": "stdout",
     "output_type": "stream",
     "text": [
      "Convexity condition satisfied (via LP): True\n"
     ]
    }
   ],
   "source": [
    "result = dual_interpolation_check(points, z)\n",
    "print(\"Convexity condition satisfied (via LP):\", result)"
   ]
  },
  {
   "cell_type": "code",
   "execution_count": 12,
   "id": "925b3f18-461c-4bbb-a143-502352a5646e",
   "metadata": {},
   "outputs": [],
   "source": [
    "#f = x^2 - y^2\n",
    "def f_nonconvex1(points):\n",
    "    x, y = points[:, 0], points[:, 1]\n",
    "    return x**2 - y**2"
   ]
  },
  {
   "cell_type": "code",
   "execution_count": 13,
   "id": "7fe7c34e-1741-4e22-880d-6c368c8a6d4c",
   "metadata": {},
   "outputs": [],
   "source": [
    "N = 1000\n",
    "points = sample_standard_normal(N)\n",
    "\n",
    "z = f_nonconvex1(points)"
   ]
  },
  {
   "cell_type": "code",
   "execution_count": 14,
   "id": "771c5397-0c6b-40ee-8b70-f6f49070e21a",
   "metadata": {},
   "outputs": [
    {
     "name": "stdout",
     "output_type": "stream",
     "text": [
      "Convexity condition satisfied (via LP): False\n"
     ]
    }
   ],
   "source": [
    "result = dual_interpolation_check(points, z)\n",
    "print(\"Convexity condition satisfied (via LP):\", result)"
   ]
  },
  {
   "cell_type": "code",
   "execution_count": null,
   "id": "a7a9f1c3-6b7f-4cf7-82e4-eb984ca33fba",
   "metadata": {},
   "outputs": [],
   "source": []
  }
 ],
 "metadata": {
  "kernelspec": {
   "display_name": "Python 3 (ipykernel)",
   "language": "python",
   "name": "python3"
  },
  "language_info": {
   "codemirror_mode": {
    "name": "ipython",
    "version": 3
   },
   "file_extension": ".py",
   "mimetype": "text/x-python",
   "name": "python",
   "nbconvert_exporter": "python",
   "pygments_lexer": "ipython3",
   "version": "3.11.7"
  }
 },
 "nbformat": 4,
 "nbformat_minor": 5
}
